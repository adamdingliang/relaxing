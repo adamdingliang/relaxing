{
 "cells": [
  {
   "cell_type": "code",
   "execution_count": 2,
   "metadata": {
    "collapsed": true
   },
   "outputs": [],
   "source": [
    "%matplotlib inline\n",
    "#!/usr/bin/env python3\n",
    "import pandas as pd\n",
    "import numpy as np\n",
    "import matplotlib.pyplot as plt"
   ]
  },
  {
   "cell_type": "code",
   "execution_count": 3,
   "metadata": {
    "collapsed": true
   },
   "outputs": [],
   "source": [
    "intake_df = pd.read_csv('intake.csv', sep='\\t')\n",
    "#intake_df.head()"
   ]
  },
  {
   "cell_type": "code",
   "execution_count": 4,
   "metadata": {
    "collapsed": true
   },
   "outputs": [],
   "source": [
    "new_target_names = []\n",
    "for target in intake_df['target_name']:\n",
    "    if target[0:8] =='CHIPSEQ_':\n",
    "        new_target_names.append('CHIPSEQ')\n",
    "    else:\n",
    "        new_target_names.append(target)\n",
    "len(new_target_names)\n",
    "\n",
    "new_dates = []\n",
    "for date in intake_df['begin_date']:\n",
    "    new_dates.append(date.split()[0])"
   ]
  },
  {
   "cell_type": "code",
   "execution_count": 5,
   "metadata": {
    "scrolled": true
   },
   "outputs": [
    {
     "data": {
      "text/html": [
       "<div>\n",
       "<style>\n",
       "    .dataframe thead tr:only-child th {\n",
       "        text-align: right;\n",
       "    }\n",
       "\n",
       "    .dataframe thead th {\n",
       "        text-align: left;\n",
       "    }\n",
       "\n",
       "    .dataframe tbody tr th {\n",
       "        vertical-align: top;\n",
       "    }\n",
       "</style>\n",
       "<table border=\"1\" class=\"dataframe\">\n",
       "  <thead>\n",
       "    <tr style=\"text-align: right;\">\n",
       "      <th></th>\n",
       "      <th>anls_type_name</th>\n",
       "      <th>anls_run_name</th>\n",
       "      <th>formal_name</th>\n",
       "      <th>target_name</th>\n",
       "      <th>project_name</th>\n",
       "      <th>subproject</th>\n",
       "      <th>genome</th>\n",
       "      <th>begin_date</th>\n",
       "      <th>end_date</th>\n",
       "      <th>duration</th>\n",
       "    </tr>\n",
       "  </thead>\n",
       "  <tbody>\n",
       "    <tr>\n",
       "      <th>0</th>\n",
       "      <td>intake</td>\n",
       "      <td>j5PYhAMm</td>\n",
       "      <td>SJMMNORM054925_C1</td>\n",
       "      <td>CHIPSEQ</td>\n",
       "      <td>Dyer</td>\n",
       "      <td>Dyer</td>\n",
       "      <td>MGSCv37</td>\n",
       "      <td>2018-01-05</td>\n",
       "      <td>2018-01-05 19:17:58.551347</td>\n",
       "      <td>431.955606</td>\n",
       "    </tr>\n",
       "    <tr>\n",
       "      <th>1</th>\n",
       "      <td>intake</td>\n",
       "      <td>j5PYhAMm</td>\n",
       "      <td>SJMMNORM054925_C1</td>\n",
       "      <td>CHIPSEQ</td>\n",
       "      <td>Dyer</td>\n",
       "      <td>Dyer</td>\n",
       "      <td>MGSCv37</td>\n",
       "      <td>2018-01-05</td>\n",
       "      <td>2018-01-05 19:17:58.551347</td>\n",
       "      <td>431.955606</td>\n",
       "    </tr>\n",
       "    <tr>\n",
       "      <th>2</th>\n",
       "      <td>intake</td>\n",
       "      <td>j5PYhAMm</td>\n",
       "      <td>SJMMNORM054925_C1</td>\n",
       "      <td>CHIPSEQ</td>\n",
       "      <td>Dyer</td>\n",
       "      <td>Dyer</td>\n",
       "      <td>MGSCv37</td>\n",
       "      <td>2018-01-05</td>\n",
       "      <td>2018-01-05 19:17:58.551347</td>\n",
       "      <td>431.955606</td>\n",
       "    </tr>\n",
       "    <tr>\n",
       "      <th>3</th>\n",
       "      <td>intake</td>\n",
       "      <td>j5PYhAMm</td>\n",
       "      <td>SJMMNORM054925_C1</td>\n",
       "      <td>CHIPSEQ</td>\n",
       "      <td>Dyer</td>\n",
       "      <td>Dyer</td>\n",
       "      <td>MGSCv37</td>\n",
       "      <td>2018-01-05</td>\n",
       "      <td>2018-01-05 19:17:58.551347</td>\n",
       "      <td>431.955606</td>\n",
       "    </tr>\n",
       "    <tr>\n",
       "      <th>4</th>\n",
       "      <td>intake</td>\n",
       "      <td>j5PYhAMm</td>\n",
       "      <td>SJMMNORM054925_C1</td>\n",
       "      <td>CHIPSEQ</td>\n",
       "      <td>Dyer</td>\n",
       "      <td>Dyer</td>\n",
       "      <td>MGSCv37</td>\n",
       "      <td>2018-01-05</td>\n",
       "      <td>2018-01-05 19:17:58.551347</td>\n",
       "      <td>431.955606</td>\n",
       "    </tr>\n",
       "  </tbody>\n",
       "</table>\n",
       "</div>"
      ],
      "text/plain": [
       "  anls_type_name anls_run_name        formal_name target_name project_name  \\\n",
       "0         intake      j5PYhAMm  SJMMNORM054925_C1     CHIPSEQ         Dyer   \n",
       "1         intake      j5PYhAMm  SJMMNORM054925_C1     CHIPSEQ         Dyer   \n",
       "2         intake      j5PYhAMm  SJMMNORM054925_C1     CHIPSEQ         Dyer   \n",
       "3         intake      j5PYhAMm  SJMMNORM054925_C1     CHIPSEQ         Dyer   \n",
       "4         intake      j5PYhAMm  SJMMNORM054925_C1     CHIPSEQ         Dyer   \n",
       "\n",
       "  subproject   genome  begin_date                    end_date    duration  \n",
       "0       Dyer  MGSCv37  2018-01-05  2018-01-05 19:17:58.551347  431.955606  \n",
       "1       Dyer  MGSCv37  2018-01-05  2018-01-05 19:17:58.551347  431.955606  \n",
       "2       Dyer  MGSCv37  2018-01-05  2018-01-05 19:17:58.551347  431.955606  \n",
       "3       Dyer  MGSCv37  2018-01-05  2018-01-05 19:17:58.551347  431.955606  \n",
       "4       Dyer  MGSCv37  2018-01-05  2018-01-05 19:17:58.551347  431.955606  "
      ]
     },
     "execution_count": 5,
     "metadata": {},
     "output_type": "execute_result"
    }
   ],
   "source": [
    "temp_df = pd.DataFrame({'target_name': new_target_names, 'begin_date': new_dates})\n",
    "intake_df.update(temp_df)\n",
    "intake_df.head()"
   ]
  },
  {
   "cell_type": "code",
   "execution_count": 6,
   "metadata": {},
   "outputs": [
    {
     "data": {
      "text/html": [
       "<div>\n",
       "<style>\n",
       "    .dataframe thead tr:only-child th {\n",
       "        text-align: right;\n",
       "    }\n",
       "\n",
       "    .dataframe thead th {\n",
       "        text-align: left;\n",
       "    }\n",
       "\n",
       "    .dataframe tbody tr th {\n",
       "        vertical-align: top;\n",
       "    }\n",
       "</style>\n",
       "<table border=\"1\" class=\"dataframe\">\n",
       "  <thead>\n",
       "    <tr style=\"text-align: right;\">\n",
       "      <th></th>\n",
       "      <th>anls_type_name</th>\n",
       "      <th>anls_run_name</th>\n",
       "      <th>formal_name</th>\n",
       "      <th>target_name</th>\n",
       "      <th>project_name</th>\n",
       "      <th>subproject</th>\n",
       "      <th>genome</th>\n",
       "      <th>begin_date</th>\n",
       "      <th>end_date</th>\n",
       "      <th>duration</th>\n",
       "    </tr>\n",
       "  </thead>\n",
       "  <tbody>\n",
       "    <tr>\n",
       "      <th>0</th>\n",
       "      <td>intake</td>\n",
       "      <td>j5PYhAMm</td>\n",
       "      <td>SJMMNORM054925_C1</td>\n",
       "      <td>CHIPSEQ</td>\n",
       "      <td>Dyer</td>\n",
       "      <td>Dyer</td>\n",
       "      <td>MGSCv37</td>\n",
       "      <td>2018-01-05</td>\n",
       "      <td>2018-01-05 19:17:58.551347</td>\n",
       "      <td>431.955606</td>\n",
       "    </tr>\n",
       "    <tr>\n",
       "      <th>1</th>\n",
       "      <td>intake</td>\n",
       "      <td>j5PYhAMm</td>\n",
       "      <td>SJMMNORM054925_C1</td>\n",
       "      <td>CHIPSEQ</td>\n",
       "      <td>Dyer</td>\n",
       "      <td>Dyer</td>\n",
       "      <td>MGSCv37</td>\n",
       "      <td>2018-01-05</td>\n",
       "      <td>2018-01-05 19:17:58.551347</td>\n",
       "      <td>431.955606</td>\n",
       "    </tr>\n",
       "    <tr>\n",
       "      <th>2</th>\n",
       "      <td>intake</td>\n",
       "      <td>j5PYhAMm</td>\n",
       "      <td>SJMMNORM054925_C1</td>\n",
       "      <td>CHIPSEQ</td>\n",
       "      <td>Dyer</td>\n",
       "      <td>Dyer</td>\n",
       "      <td>MGSCv37</td>\n",
       "      <td>2018-01-05</td>\n",
       "      <td>2018-01-05 19:17:58.551347</td>\n",
       "      <td>431.955606</td>\n",
       "    </tr>\n",
       "    <tr>\n",
       "      <th>3</th>\n",
       "      <td>intake</td>\n",
       "      <td>j5PYhAMm</td>\n",
       "      <td>SJMMNORM054925_C1</td>\n",
       "      <td>CHIPSEQ</td>\n",
       "      <td>Dyer</td>\n",
       "      <td>Dyer</td>\n",
       "      <td>MGSCv37</td>\n",
       "      <td>2018-01-05</td>\n",
       "      <td>2018-01-05 19:17:58.551347</td>\n",
       "      <td>431.955606</td>\n",
       "    </tr>\n",
       "    <tr>\n",
       "      <th>4</th>\n",
       "      <td>intake</td>\n",
       "      <td>j5PYhAMm</td>\n",
       "      <td>SJMMNORM054925_C1</td>\n",
       "      <td>CHIPSEQ</td>\n",
       "      <td>Dyer</td>\n",
       "      <td>Dyer</td>\n",
       "      <td>MGSCv37</td>\n",
       "      <td>2018-01-05</td>\n",
       "      <td>2018-01-05 19:17:58.551347</td>\n",
       "      <td>431.955606</td>\n",
       "    </tr>\n",
       "  </tbody>\n",
       "</table>\n",
       "</div>"
      ],
      "text/plain": [
       "  anls_type_name anls_run_name        formal_name target_name project_name  \\\n",
       "0         intake      j5PYhAMm  SJMMNORM054925_C1     CHIPSEQ         Dyer   \n",
       "1         intake      j5PYhAMm  SJMMNORM054925_C1     CHIPSEQ         Dyer   \n",
       "2         intake      j5PYhAMm  SJMMNORM054925_C1     CHIPSEQ         Dyer   \n",
       "3         intake      j5PYhAMm  SJMMNORM054925_C1     CHIPSEQ         Dyer   \n",
       "4         intake      j5PYhAMm  SJMMNORM054925_C1     CHIPSEQ         Dyer   \n",
       "\n",
       "  subproject   genome  begin_date                    end_date    duration  \n",
       "0       Dyer  MGSCv37  2018-01-05  2018-01-05 19:17:58.551347  431.955606  \n",
       "1       Dyer  MGSCv37  2018-01-05  2018-01-05 19:17:58.551347  431.955606  \n",
       "2       Dyer  MGSCv37  2018-01-05  2018-01-05 19:17:58.551347  431.955606  \n",
       "3       Dyer  MGSCv37  2018-01-05  2018-01-05 19:17:58.551347  431.955606  \n",
       "4       Dyer  MGSCv37  2018-01-05  2018-01-05 19:17:58.551347  431.955606  "
      ]
     },
     "execution_count": 6,
     "metadata": {},
     "output_type": "execute_result"
    }
   ],
   "source": [
    "chip_df = intake_df[intake_df['target_name'] == 'CHIPSEQ']\n",
    "chip_df.head()"
   ]
  },
  {
   "cell_type": "code",
   "execution_count": 7,
   "metadata": {},
   "outputs": [
    {
     "data": {
      "text/html": [
       "<div>\n",
       "<style>\n",
       "    .dataframe thead tr:only-child th {\n",
       "        text-align: right;\n",
       "    }\n",
       "\n",
       "    .dataframe thead th {\n",
       "        text-align: left;\n",
       "    }\n",
       "\n",
       "    .dataframe tbody tr th {\n",
       "        vertical-align: top;\n",
       "    }\n",
       "</style>\n",
       "<table border=\"1\" class=\"dataframe\">\n",
       "  <thead>\n",
       "    <tr style=\"text-align: right;\">\n",
       "      <th></th>\n",
       "      <th>duration</th>\n",
       "    </tr>\n",
       "    <tr>\n",
       "      <th>begin_date</th>\n",
       "      <th></th>\n",
       "    </tr>\n",
       "  </thead>\n",
       "  <tbody>\n",
       "    <tr>\n",
       "      <th>2015-07-28</th>\n",
       "      <td>78307.603659</td>\n",
       "    </tr>\n",
       "    <tr>\n",
       "      <th>2015-07-29</th>\n",
       "      <td>1290.318643</td>\n",
       "    </tr>\n",
       "    <tr>\n",
       "      <th>2015-07-30</th>\n",
       "      <td>438.563781</td>\n",
       "    </tr>\n",
       "    <tr>\n",
       "      <th>2015-08-03</th>\n",
       "      <td>831.016851</td>\n",
       "    </tr>\n",
       "    <tr>\n",
       "      <th>2015-08-04</th>\n",
       "      <td>13887.173378</td>\n",
       "    </tr>\n",
       "  </tbody>\n",
       "</table>\n",
       "</div>"
      ],
      "text/plain": [
       "                duration\n",
       "begin_date              \n",
       "2015-07-28  78307.603659\n",
       "2015-07-29   1290.318643\n",
       "2015-07-30    438.563781\n",
       "2015-08-03    831.016851\n",
       "2015-08-04  13887.173378"
      ]
     },
     "execution_count": 7,
     "metadata": {},
     "output_type": "execute_result"
    }
   ],
   "source": [
    "chip_bd_df = chip_df.groupby(['begin_date']).mean()\n",
    "chip_bd_df.head()"
   ]
  },
  {
   "cell_type": "code",
   "execution_count": 67,
   "metadata": {},
   "outputs": [
    {
     "data": {
      "text/plain": [
       "(147, 1)"
      ]
     },
     "execution_count": 67,
     "metadata": {},
     "output_type": "execute_result"
    }
   ],
   "source": [
    "sorted_chip_bd_df = chip_bd_df.sort_index(level=1)\n",
    "sorted_chip_bd_df.head()\n",
    "sorted_chip_bd_df.shape"
   ]
  },
  {
   "cell_type": "code",
   "execution_count": 80,
   "metadata": {},
   "outputs": [
    {
     "data": {
      "text/html": [
       "<div>\n",
       "<style>\n",
       "    .dataframe thead tr:only-child th {\n",
       "        text-align: right;\n",
       "    }\n",
       "\n",
       "    .dataframe thead th {\n",
       "        text-align: left;\n",
       "    }\n",
       "\n",
       "    .dataframe tbody tr th {\n",
       "        vertical-align: top;\n",
       "    }\n",
       "</style>\n",
       "<table border=\"1\" class=\"dataframe\">\n",
       "  <thead>\n",
       "    <tr style=\"text-align: right;\">\n",
       "      <th></th>\n",
       "      <th>duration</th>\n",
       "      <th>outlier</th>\n",
       "    </tr>\n",
       "    <tr>\n",
       "      <th>begin_date</th>\n",
       "      <th></th>\n",
       "      <th></th>\n",
       "    </tr>\n",
       "  </thead>\n",
       "  <tbody>\n",
       "    <tr>\n",
       "      <th>2015-08-21</th>\n",
       "      <td>4427.583816</td>\n",
       "      <td>False</td>\n",
       "    </tr>\n",
       "    <tr>\n",
       "      <th>2015-08-31</th>\n",
       "      <td>30400.173084</td>\n",
       "      <td>False</td>\n",
       "    </tr>\n",
       "    <tr>\n",
       "      <th>2015-09-02</th>\n",
       "      <td>3183.639869</td>\n",
       "      <td>False</td>\n",
       "    </tr>\n",
       "    <tr>\n",
       "      <th>2015-09-16</th>\n",
       "      <td>60933.806547</td>\n",
       "      <td>False</td>\n",
       "    </tr>\n",
       "    <tr>\n",
       "      <th>2015-09-22</th>\n",
       "      <td>52376.447016</td>\n",
       "      <td>False</td>\n",
       "    </tr>\n",
       "  </tbody>\n",
       "</table>\n",
       "</div>"
      ],
      "text/plain": [
       "                duration  outlier\n",
       "begin_date                       \n",
       "2015-08-21   4427.583816    False\n",
       "2015-08-31  30400.173084    False\n",
       "2015-09-02   3183.639869    False\n",
       "2015-09-16  60933.806547    False\n",
       "2015-09-22  52376.447016    False"
      ]
     },
     "execution_count": 80,
     "metadata": {},
     "output_type": "execute_result"
    }
   ],
   "source": [
    "# Select last few rows\n",
    "sorted_chip_bd_df = sorted_chip_bd_df.iloc[range(1, sorted_chip_bd_df.shape[0])]\n",
    "sorted_chip_bd_df.head()"
   ]
  },
  {
   "cell_type": "code",
   "execution_count": 73,
   "metadata": {},
   "outputs": [
    {
     "name": "stdout",
     "output_type": "stream",
     "text": [
      "mean: 34854.39093739933 seconds\n",
      "std: 101756.48027491981 seconds\n"
     ]
    }
   ],
   "source": [
    "print('mean: ' + str(sorted_chip_bd_df['duration'].mean()) + ' seconds')\n",
    "print('std: ' + str(sorted_chip_bd_df['duration'].std()) + ' seconds')\n",
    "sorted_chip_bd_df['outlier'] = abs(sorted_chip_bd_df['duration'] - sorted_chip_bd_df['duration'].mean()) > 1.96 * sorted_chip_bd_df['duration'].std()\n",
    "sorted_chip_no_outlier_df = sorted_chip_bd_df[sorted_chip_bd_df['outlier'] == False]\n",
    "#sorted_chip_no_outlier_df.head()"
   ]
  },
  {
   "cell_type": "code",
   "execution_count": 92,
   "metadata": {},
   "outputs": [
    {
     "data": {
      "text/plain": [
       "[<matplotlib.text.Text at 0x113094c50>, <matplotlib.text.Text at 0x11307d7b8>]"
      ]
     },
     "execution_count": 92,
     "metadata": {},
     "output_type": "execute_result"
    },
    {
     "data": {
      "image/png": "[encoded data removed]",
      "text/plain": [
       "<matplotlib.figure.Figure at 0x112fa5be0>"
      ]
     },
     "metadata": {},
     "output_type": "display_data"
    }
   ],
   "source": [
    "pl = sorted_chip_no_outlier_df['duration'].plot(y='seconds', xticks=[1, 32, 65, 98, 130])\n",
    "pl.set(ylabel='seconds', xlabel='begin_date')"
   ]
  }
 ],
 "metadata": {
  "kernelspec": {
   "display_name": "Python 3",
   "language": "python",
   "name": "python3"
  },
  "language_info": {
   "codemirror_mode": {
    "name": "ipython",
    "version": 3
   },
   "file_extension": ".py",
   "mimetype": "text/x-python",
   "name": "python",
   "nbconvert_exporter": "python",
   "pygments_lexer": "ipython3",
   "version": "3.6.1"
  }
 },
 "nbformat": 4,
 "nbformat_minor": 2
}
